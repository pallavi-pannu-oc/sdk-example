{
 "cells": [
  {
   "cell_type": "markdown",
   "metadata": {},
   "source": [
    "### Importing Libraries"
   ]
  },
  {
   "cell_type": "code",
   "execution_count": 45,
   "metadata": {},
   "outputs": [],
   "source": [
    "from dkube.sdk import *\n",
    "import os"
   ]
  },
  {
   "cell_type": "code",
   "execution_count": 46,
   "metadata": {},
   "outputs": [],
   "source": [
    "import kfp\n",
    "import kfp.dsl as dsl\n",
    "import kfp.compiler as compiler\n",
    "from kubernetes import client as k8s_client\n",
    "from kfp import components\n",
    "import json\n",
    "from random import randint"
   ]
  },
  {
   "cell_type": "markdown",
   "metadata": {},
   "source": [
    "### Initializing fields"
   ]
  },
  {
   "cell_type": "code",
   "execution_count": 47,
   "metadata": {},
   "outputs": [],
   "source": [
    "user = os.getenv('USERNAME')\n",
    "token = os.getenv('DKUBE_USER_ACCESS_TOKEN')\n",
    "code_name = \"sdk-pallavi\"\n",
    "dataset_name = \"sdk-test-pallavi\"\n",
    "model_name = \"sdk-pallavi\"\n",
    "framework = \"tensorflow_1.14\"\n",
    "image = \"ocdr/d3-datascience-tf-cpu:v1.14-3\"\n",
    "training_script = \"python model.py\"\n",
    "transformer_script = \"mnist/transformer.py\""
   ]
  },
  {
   "cell_type": "markdown",
   "metadata": {},
   "source": [
    "### Load Components"
   ]
  },
  {
   "cell_type": "code",
   "execution_count": 48,
   "metadata": {},
   "outputs": [],
   "source": [
    "\n",
    "dkube_training_op = components.load_component_from_file(\"/mnt/dkube/pipeline/components/training/component.yaml\")\n",
    "dkube_serving_op  = components.load_component_from_file(\"/mnt/dkube/pipeline/components/serving/component.yaml\")\n"
   ]
  },
  {
   "cell_type": "code",
   "execution_count": 49,
   "metadata": {},
   "outputs": [],
   "source": [
    "\n",
    "@dsl.pipeline(\n",
    "  name='MNIST',\n",
    "  description='A pipeline to train and serve the MNIST example.'\n",
    ")\n",
    "def mnist_pipeline(train_steps='200',\n",
    "                   learning_rate='0.01',\n",
    "                   batch_size='100',\n",
    "                   token=token,code_name=code_name,dataset_name=dataset_name,model_name=model_name):\n",
    "    \n",
    "                   training = dkube_training_op(token, json.dumps({\"image\": image}),\n",
    "                            framework=\"tensorflow\", version=\"1.14\",\n",
    "                            program=code_name, run_script=training_script,\n",
    "                            input_dataset_mounts='[\"tmp/data/\"]',outputs='[\"sdk-pallavi\"]',\n",
    "                            output_mounts='[\"mnist/\"]')\n",
    "                   \n",
    "                   serving  = dkube_serving_op(token, training.outputs['artifact'],\n",
    "                            device=\"cpu\", serving_image=json.dumps({\"image\": \"ocdr/tensorflowserver:1.14\"}),\n",
    "                            transformer_image=json.dumps({\"image\": image}),\n",
    "                            transformer_project=code_name,\n",
    "                            transformer_code=transformer_script).after(training).set_display_name(\"MNIST Serving\")"
   ]
  },
  {
   "cell_type": "code",
   "execution_count": 50,
   "metadata": {},
   "outputs": [
    {
     "data": {
      "text/html": [
       "Experiment link <a href=\"/pipeline/#/experiments/details/cf9dfbe3-9975-4368-a684-2c8d9d46f552\" target=\"_blank\" >here</a>"
      ],
      "text/plain": [
       "<IPython.core.display.HTML object>"
      ]
     },
     "metadata": {},
     "output_type": "display_data"
    }
   ],
   "source": [
    "experiment_name = 'MNIST pl'\n",
    "client = kfp.Client(existing_token=token)\n",
    "mnist_experiment = client.create_experiment(name=experiment_name)"
   ]
  },
  {
   "cell_type": "code",
   "execution_count": 51,
   "metadata": {},
   "outputs": [
    {
     "data": {
      "text/html": [
       "Pipeline link <a href=/pipeline/#/pipelines/details/e8428c5f-38de-494a-99ec-7980e3c033f0>here</a>"
      ],
      "text/plain": [
       "<IPython.core.display.HTML object>"
      ]
     },
     "metadata": {},
     "output_type": "display_data"
    }
   ],
   "source": [
    "arguments = {\"token\":token}\n",
    "compiler.Compiler().compile(mnist_pipeline, \"mnist-pipeline.zip\")\n",
    "try:\n",
    "    pipeline = client.upload_pipeline(\"mnist-pipeline.zip\", pipeline_name = \"mnist-pipeline\")\n",
    "except BaseException as e:\n",
    "    print(e)\n",
    "runid = 1\n"
   ]
  },
  {
   "cell_type": "code",
   "execution_count": 52,
   "metadata": {},
   "outputs": [
    {
     "data": {
      "text/html": [
       "Run link <a href=\"/pipeline/#/runs/details/1d129505-4185-4445-ac11-1921a7bd53c2\" target=\"_blank\" >here</a>"
      ],
      "text/plain": [
       "<IPython.core.display.HTML object>"
      ]
     },
     "metadata": {},
     "output_type": "display_data"
    }
   ],
   "source": [
    "run = client.run_pipeline(mnist_experiment.id, job_name=\"[MNIST] Run\" + str(runid), pipeline_id=pipeline.id, params=arguments)\n",
    "runid += 1"
   ]
  },
  {
   "cell_type": "code",
   "execution_count": null,
   "metadata": {},
   "outputs": [],
   "source": []
  },
  {
   "cell_type": "code",
   "execution_count": null,
   "metadata": {},
   "outputs": [],
   "source": []
  }
 ],
 "metadata": {
  "kernelspec": {
   "display_name": "Python 3",
   "language": "python",
   "name": "python3"
  },
  "language_info": {
   "codemirror_mode": {
    "name": "ipython",
    "version": 3
   },
   "file_extension": ".py",
   "mimetype": "text/x-python",
   "name": "python",
   "nbconvert_exporter": "python",
   "pygments_lexer": "ipython3",
   "version": "3.6.8"
  }
 },
 "nbformat": 4,
 "nbformat_minor": 4
}
